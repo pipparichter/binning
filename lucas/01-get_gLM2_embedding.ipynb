{
 "cells": [
  {
   "cell_type": "code",
   "execution_count": 1,
   "metadata": {},
   "outputs": [
    {
     "name": "stderr",
     "output_type": "stream",
     "text": [
      "100%|██████████| 405/405 [02:27<00:00,  2.75it/s]\n",
      "100%|██████████| 405/405 [02:27<00:00,  2.75it/s]\n"
     ]
    }
   ],
   "source": [
    "import torch\n",
    "import pickle\n",
    "from Bio import SeqIO\n",
    "from tqdm import tqdm\n",
    "from transformers import AutoTokenizer, AutoModel\n",
    "\n",
    "model_name = 'tattabio/gLM2_650M'\n",
    "tokenizer = AutoTokenizer.from_pretrained(model_name,trust_remote_code=True)\n",
    "pretrained_model = AutoModel.from_pretrained(model_name,trust_remote_code=True).cuda()\n",
    "\n",
    "def embed_sequence(sequence):\n",
    "    encodings = tokenizer([sequence], return_tensors='pt')\n",
    "    with torch.no_grad():\n",
    "        embedding = pretrained_model(encodings.input_ids.cuda(), output_hidden_states=True).last_hidden_state\n",
    "    return embedding.cpu().numpy()\n",
    "\n",
    "direction_dict = {'fwd':'+','rev':'-'}\n",
    "embedding_dict = {}\n",
    "for direction,symbol in direction_dict.items():\n",
    "    seq_dict = {}\n",
    "    for record in SeqIO.parse('contigs_coverage_95.fn', 'fasta'):\n",
    "        seq_dict[record.id] = f'<{symbol}>{str(record.seq).lower()}'\n",
    "\n",
    "    tmp_dict = {}\n",
    "    for id, seq in tqdm(seq_dict.items()):\n",
    "        tmp_dict[id] = embed_sequence(seq)\n",
    "\n",
    "    with open(f'contigs_coverage_95_{direction}_embeddings_gLM2_650M.pkl', 'wb') as file:\n",
    "        pickle.dump(tmp_dict, file)\n",
    "\n",
    "    embedding_dict[direction] = tmp_dict\n",
    "    del tmp_dict"
   ]
  }
 ],
 "metadata": {
  "kernelspec": {
   "display_name": "evo",
   "language": "python",
   "name": "python3"
  },
  "language_info": {
   "codemirror_mode": {
    "name": "ipython",
    "version": 3
   },
   "file_extension": ".py",
   "mimetype": "text/x-python",
   "name": "python",
   "nbconvert_exporter": "python",
   "pygments_lexer": "ipython3",
   "version": "3.11.9"
  }
 },
 "nbformat": 4,
 "nbformat_minor": 2
}
