{
 "cells": [
  {
   "cell_type": "code",
   "execution_count": 2,
   "metadata": {},
   "outputs": [],
   "source": [
    "import pandas as pd\n",
    "from datasets import Dataset, DatasetDict"
   ]
  },
  {
   "cell_type": "code",
   "execution_count": 5,
   "metadata": {},
   "outputs": [],
   "source": [
    "fwd_pkl = pd.read_pickle('contigs_coverage_95_fwd_embeddings_gLM2_650M.pkl')\n",
    "fwd_df = pd.DataFrame([fwd_pkl]).T.reset_index()\n",
    "fwd_df.columns = ['id','embedding']\n",
    "fwd_df['embedding'] = fwd_df['embedding'].apply(lambda x: x.tolist())\n",
    "\n",
    "rev_pkl = pd.read_pickle('contigs_coverage_95_rev_embeddings_gLM2_650M.pkl')\n",
    "rev_df = pd.DataFrame([rev_pkl]).T.reset_index()\n",
    "rev_df.columns = ['id','embedding']\n",
    "rev_df['embedding'] = rev_df['embedding'].apply(lambda x: x.tolist())"
   ]
  },
  {
   "cell_type": "code",
   "execution_count": 6,
   "metadata": {},
   "outputs": [],
   "source": [
    "dataset = DatasetDict({\n",
    "    'fwd': Dataset.from_pandas(fwd_df),\n",
    "    'rev': Dataset.from_pandas(rev_df),\n",
    "})"
   ]
  }
 ],
 "metadata": {
  "kernelspec": {
   "display_name": "evo",
   "language": "python",
   "name": "python3"
  },
  "language_info": {
   "codemirror_mode": {
    "name": "ipython",
    "version": 3
   },
   "file_extension": ".py",
   "mimetype": "text/x-python",
   "name": "python",
   "nbconvert_exporter": "python",
   "pygments_lexer": "ipython3",
   "version": "3.11.9"
  }
 },
 "nbformat": 4,
 "nbformat_minor": 2
}
